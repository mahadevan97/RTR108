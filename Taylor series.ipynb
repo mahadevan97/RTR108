{
 "cells": [
  {
   "cell_type": "code",
   "execution_count": 1,
   "metadata": {},
   "outputs": [
    {
     "name": "stdout",
     "output_type": "stream",
     "text": [
      "Lietotāj, lūdzu, ievadi argumentu (x): 2\n",
      "sin(2.00) = 0.91\n",
      "a0 = 2.00 S0 = 2.00\n",
      "a1 = -1.33 S1 = 0.67\n",
      "a2 = 0.27 S2 = 0.93\n",
      "a3 = -0.03 S3 = 0.91\n"
     ]
    }
   ],
   "source": [
    "from math import *\n",
    "x = float(input(\"Lietotāj, lūdzu, ievadi argumentu (x): \"))\n",
    "y = sin(x)\n",
    "print(\"sin(%.2f) = %.2f\"%(x,y))\n",
    "a0 = (-1)**0*x**1/(1)\n",
    "S0 = a0\n",
    "print(\"a0 = %.2f S0 = %.2f\"%(a0,S0))\n",
    "a1 = (-1)**1*x**3/(1*2*3)\n",
    "S1 = a0 + a1\n",
    "print(\"a1 = %.2f S1 = %.2f\"%(a1,S1))\n",
    "a2 = (-1)**2*x**5/(1*2*3*4*5)\n",
    "S2 = a0 + a1 + a2\n",
    "print(\"a2 = %.2f S2 = %.2f\"%(a2,S2))\n",
    "a3 = (-1)**3*x**7/(1*2*3*4*5*6*7)\n",
    "S3 = a0 + a1 + a2 + a3\n",
    "print(\"a3 = %.2f S3 = %.2f\"%(a3,S3))"
   ]
  },
  {
   "cell_type": "code",
   "execution_count": 2,
   "metadata": {},
   "outputs": [
    {
     "name": "stdout",
     "output_type": "stream",
     "text": [
      "Lietotāj, lūdzu, ievadi argumentu (x): 2\n",
      "sin(2.00) = 0.91\n",
      "a0 = 2.00 S0 = 2.00\n",
      "a1 = -1.33 S1 = 0.67\n",
      "a2 = 0.27 S2 = 0.93\n",
      "a3 = -0.03 S3 = 0.91\n"
     ]
    }
   ],
   "source": [
    "\n",
    "x = float(input(\"Lietotāj, lūdzu, ievadi argumentu (x): \"))\n",
    "y = sin(x)\n",
    "print(\"sin(%.2f) = %.2f\"%(x,y))\n",
    "\n",
    "a0 = (-1)**0*x**1/(1)\n",
    "S = a0\n",
    "print(\"a0 = %.2f S0 = %.2f\"%(a0,S))\n",
    "\n",
    "a1 = (-1)**1*x**3/(1*2*3)\n",
    "S = S + a1\n",
    "print(\"a1 = %.2f S1 = %.2f\"%(a1,S))\n",
    "\n",
    "a2 = (-1)**2*x**5/(1*2*3*4*5)\n",
    "S = S + a2\n",
    "print(\"a2 = %.2f S2 = %.2f\"%(a2,S))\n",
    "\n",
    "a3 = (-1)**3*x**7/(1*2*3*4*5*6*7)\n",
    "S = S + a3\n",
    "print(\"a3 = %.2f S3 = %.2f\"%(a3,S))"
   ]
  },
  {
   "cell_type": "code",
   "execution_count": 3,
   "metadata": {},
   "outputs": [
    {
     "name": "stdout",
     "output_type": "stream",
     "text": [
      "Lietotāj, lūdzu, ievadi argumentu (x): 2\n",
      "sin(2.00) =   0.91\n",
      "a0 =   2.00 S0 =   2.00\n",
      "a1 =  -1.33 S1 =   0.67\n",
      "a2 =   0.27 S2 =   0.93\n",
      "a3 =  -0.03 S3 =   0.91\n"
     ]
    }
   ],
   "source": [
    "x = float(input(\"Lietotāj, lūdzu, ievadi argumentu (x): \"))\n",
    "y = sin(x)\n",
    "print(\"sin(%.2f) = %6.2f\"%(x,y))\n",
    "a = (-1)**0*x**1/(1)\n",
    "S = a\n",
    "print(\"a0 = %6.2f S0 = %6.2f\"%(a,S))\n",
    "\n",
    "a = a * (-1)*x*x/(2*3)\n",
    "S = S + a\n",
    "print(\"a1 = %6.2f S1 = %6.2f\"%(a,S))\n",
    "\n",
    "a = a * (-1)*x*x/(4*5)\n",
    "S = S + a\n",
    "print(\"a2 = %6.2f S2 = %6.2f\"%(a,S))\n",
    "\n",
    "a = a * (-1)*x*x/(6*7)\n",
    "S = S + a\n",
    "print(\"a3 = %6.2f S3 = %6.2f\"%(a,S))"
   ]
  },
  {
   "cell_type": "code",
   "execution_count": 4,
   "metadata": {},
   "outputs": [
    {
     "name": "stdout",
     "output_type": "stream",
     "text": [
      "Lietotāj, lūdzu, ievadi argumentu (x): 2\n",
      "sin(2.00) =   0.91\n",
      "a0 =   2.00 S0 =   2.00\n",
      "a1 =  -1.33 S1 =   0.67\n",
      "a2 =   0.27 S2 =   0.93\n",
      "a3 =  -0.03 S3 =   0.91\n"
     ]
    }
   ],
   "source": [
    "x = float(input(\"Lietotāj, lūdzu, ievadi argumentu (x): \"))\n",
    "y = sin(x)\n",
    "print(\"sin(%.2f) = %6.2f\"%(x,y))\n",
    "k = 0\n",
    "a = (-1)**0*x**1/(1)\n",
    "S = a\n",
    "print(\"a0 = %6.2f S0 = %6.2f\"%(a,S))\n",
    "k = 1\n",
    "a = a * (-1)*x*x/((2*k)*(2*k+1))\n",
    "S = S + a\n",
    "print(\"a%d = %6.2f S%d = %6.2f\"%(k,a,k,S))\n",
    "\n",
    "k = 2\n",
    "a = a * (-1)*x*x/((2*k)*(2*k+1))\n",
    "S = S + a\n",
    "print(\"a%d = %6.2f S%d = %6.2f\"%(k,a,k,S))\n",
    "\n",
    "k = 3\n",
    "a = a * (-1)*x*x/((2*k)*(2*k+1))\n",
    "S = S + a\n",
    "print(\"a%d = %6.2f S%d = %6.2f\"%(k,a,k,S))"
   ]
  },
  {
   "cell_type": "code",
   "execution_count": 5,
   "metadata": {},
   "outputs": [
    {
     "name": "stdout",
     "output_type": "stream",
     "text": [
      "Lietotāj, lūdzu, ievadi argumentu (x): 2\n",
      "standarta sin(2.00) =   0.91\n",
      "Izdruka no liet.f. a0 =   2.00 S0 =   2.00\n",
      "Izdruka no liet.f. a1 =  -1.33 S1 =   0.67\n",
      "Izdruka no liet.f. a2 =   0.27 S2 =   0.93\n",
      "Izdruka no liet.f. a3 =  -0.03 S3 =   0.91\n",
      "Izdruka no liet.f. Beigas!\n",
      "mans sin(2.00) =   0.91\n"
     ]
    }
   ],
   "source": [
    "def mans_sinuss(x):\n",
    "    k = 0\n",
    "    a = (-1)**0*x**1/(1)\n",
    "    S = a\n",
    "    print(\"Izdruka no liet.f. a0 = %6.2f S0 = %6.2f\"%(a,S))\n",
    "    while k < 3:\n",
    "        k = k + 1\n",
    "        R = (-1)*x*x/((2*k)*(2*k+1))\n",
    "        a = a * R\n",
    "        S = S + a\n",
    "        print(\"Izdruka no liet.f. a%d = %6.2f S%d = %6.2f\"%(k,a,k,S))\n",
    "        \n",
    "    print(\"Izdruka no liet.f. Beigas!\")\n",
    "    return S\n",
    "    \n",
    "x = float(input(\"Lietotāj, lūdzu, ievadi argumentu (x): \"))\n",
    "y = sin(x)\n",
    "print(\"standarta sin(%.2f) = %6.2f\"%(x,y))\n",
    "yy = mans_sinuss(x)\n",
    "print(\"mans sin(%.2f) = %6.2f\"%(x,yy))"
   ]
  },
  {
   "cell_type": "code",
   "execution_count": 6,
   "metadata": {},
   "outputs": [
    {
     "name": "stdout",
     "output_type": "stream",
     "text": [
      "Lietotāj, lūdzu, ievadi argumentu (x): 2\n",
      "standarta sin(2.00) =   0.83\n",
      "Izdruka no liet.f. a0 =   4.00 S0 =   4.00\n",
      "Izdruka no liet.f. Beigas!\n",
      "mans sin(2.00) =    nan\n"
     ]
    }
   ],
   "source": [
    "def mans_square_sinuss(x):\n",
    "    k = 1\n",
    "    a = (-1)**(k+1)*(x**(2*k))*(2**(2*k-1))/(2*k)\n",
    "    S = a\n",
    "    print(\"Izdruka no liet.f. a0 = %6.2f S0 = %6.2f\"%(a,S))\n",
    "    while k < 100:\n",
    "        k = k + 1\n",
    "        R = (-1)**(k+1)*(x**(2*k))*(2**(2*k-1))/(2*k)\n",
    "        a = a * R\n",
    "        S = S + a\n",
    "       \n",
    "    print(\"Izdruka no liet.f. Beigas!\")\n",
    "    return S\n",
    "    \n",
    "x = float(input(\"Lietotāj, lūdzu, ievadi argumentu (x): \"))\n",
    "y = sin(x)*sin(x)\n",
    "print(\"standarta sin(%.2f) = %6.2f\"%(x,y))\n",
    "yy = mans_square_sinuss(x)\n",
    "print(\"mans sin(%.2f) = %6.2f\"%(x,yy))"
   ]
  },
  {
   "cell_type": "code",
   "execution_count": null,
   "metadata": {},
   "outputs": [],
   "source": []
  },
  {
   "cell_type": "code",
   "execution_count": null,
   "metadata": {},
   "outputs": [],
   "source": []
  }
 ],
 "metadata": {
  "kernelspec": {
   "display_name": "Python 3",
   "language": "python",
   "name": "python3"
  },
  "language_info": {
   "codemirror_mode": {
    "name": "ipython",
    "version": 3
   },
   "file_extension": ".py",
   "mimetype": "text/x-python",
   "name": "python",
   "nbconvert_exporter": "python",
   "pygments_lexer": "ipython3",
   "version": "3.7.3"
  }
 },
 "nbformat": 4,
 "nbformat_minor": 2
}
